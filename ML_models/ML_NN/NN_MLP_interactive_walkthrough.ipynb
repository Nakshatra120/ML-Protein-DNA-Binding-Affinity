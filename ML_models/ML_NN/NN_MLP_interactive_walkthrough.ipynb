{
 "cells": [
  {
   "cell_type": "markdown",
   "id": "7ff1f148",
   "metadata": {},
   "source": [
    "# MLP (PyTorch) — Step-by-Step Walkthrough (No CLI)"
   ]
  },
  {
   "cell_type": "markdown",
   "id": "b619a989",
   "metadata": {},
   "source": [
    "This notebook is a cell-by-cell version of your `run_model.py` \n",
    "for training and evaluating an MLP with repeated K-fold splits and scramble fractions — **but** designed for interactive exploration:\n",
    "\n",
    "- **Change parameters** in one place (no command line).\n",
    "- **Print & inspect** every intermediate artifact (CSV heads, shapes, metrics).\n",
    "- **Run one fold** or the **full loop**.\n",
    "- Save per-fold predictions and aggregated metrics just like the script.\n",
    "- Optional early stopping.\n",
    "\n",
    "> If a CSV or model is missing, the notebook prints a friendly message instead of crashing."
   ]
  },
  {
   "cell_type": "markdown",
   "id": "4cb095e8",
   "metadata": {},
   "source": [
    "## 1) Parameters (edit here)"
   ]
  },
  {
   "cell_type": "code",
   "execution_count": null,
   "id": "cd47738e",
   "metadata": {},
   "outputs": [],
   "source": [
    "# ---- Core task/IO ----\n",
    "MODE = 0                                # 0=train, 1=evaluate\n",
    "MODEL_TYPE = \"reg\"                      # \"reg\" | \"bin\" | \"mclass\"\n",
    "NUM_CLASSES = 3\n",
    "DATA_SCALE = \"log\"\n",
    "\n",
    "PREFIX = \"gbsa\"\n",
    "DATA_DIR = \"Data\"\n",
    "MODEL_DIR = \"Model\"\n",
    "OUTPUT_FILE = \"predictions\"\n",
    "\n",
    "KFOLD = 5\n",
    "NUM_REPEATS = 1\n",
    "SCRAMBLE_FRACTIONS = [0.0]\n",
    "\n",
    "MAX_EPOCHS = 5000\n",
    "LRN_RATE = 1e-4\n",
    "WT_DECAY = 1e-4\n",
    "DROPOUT_INPUT_OUTPUT = 0.1\n",
    "DROPOUT_HIDDEN = 0.1\n",
    "HIDDEN_SIZE = 44\n",
    "HIDDEN_LAYERS = 3\n",
    "USE_EARLY_STOPPING = True\n",
    "PATIENCE = 50\n",
    "\n",
    "REGRESSION_THRESHOLD_LOG = 0.0\n",
    "REGRESSION_THRESHOLD_NONLOG = 1.0\n",
    "\n",
    "REF_ID_COL = \"sequence\"\n",
    "REF_LABEL_COL = \"label\"\n",
    "\n",
    "RUN_ONLY_ONE_REPEAT_AND_FOLD = True\n",
    "ONE_REPEAT_IDX = 0\n",
    "ONE_FOLD_IDX = 0\n",
    "\n",
    "from pathlib import Path\n",
    "Path(DATA_DIR).mkdir(exist_ok=True, parents=True)\n",
    "Path(MODEL_DIR).mkdir(exist_ok=True, parents=True)\n",
    "print('Parameters set.')"
   ]
  },
  {
   "cell_type": "markdown",
   "id": "93198965",
   "metadata": {},
   "source": [
    "## 2) Imports & logging"
   ]
  },
  {
   "cell_type": "code",
   "execution_count": null,
   "id": "1072ef76",
   "metadata": {},
   "outputs": [],
   "source": [
    "import os, csv, math, logging\n",
    "from collections import defaultdict\n",
    "\n",
    "import numpy as np\n",
    "import pandas as pd\n",
    "import torch as T\n",
    "import matplotlib.pyplot as plt\n",
    "\n",
    "from sklearn.metrics import matthews_corrcoef, accuracy_score, r2_score\n",
    "from scipy.stats import pearsonr\n",
    "\n",
    "logging.basicConfig(level=logging.INFO, format=\"%(asctime)s - %(levelname)s - %(message)s\")\n",
    "print(\"Imports ready.\")"
   ]
  }
 ],
 "metadata": {
  "language_info": {
   "name": "python"
  }
 },
 "nbformat": 4,
 "nbformat_minor": 5
}
