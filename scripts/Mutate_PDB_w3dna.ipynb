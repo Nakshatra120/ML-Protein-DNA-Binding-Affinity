{
 "cells": [
  {
   "cell_type": "markdown",
   "id": "9921985e-828a-4929-a297-e8debbd4cbda",
   "metadata": {},
   "source": [
    "# Generating protein-DNA complexes using web3DNA"
   ]
  },
  {
   "cell_type": "markdown",
   "id": "f0dcf71d-7a5c-4a65-bf88-48cdc38eccfe",
   "metadata": {},
   "source": [
    "This notebook automates the generation of mutant Myc/Max–DNA complexes by programmatically driving the w3DNA “mutation” web tool via a headless Chrome browser. It takes as inputs (1) a reference PDB (`MycMax_PDB.pdb` (processed PDB, original is PDB entry `1NKP`), containing DNA chains A/B and protein chains E/F, waters removed, and histidine protonation pre-assigned) and (2) a CSV file (`dataset.csv`) listing 36-bp DNA target sequences. For each sequence, the script uploads the PDB, selects the appropriate base-substitution radio buttons for both strands, submits the mutation job, and then downloads the resulting PDB file (named `MycMax_PDB_<sequence>.pdb`). All outputs are saved alongside the original PDB.\n",
    "\n",
    "_Note: This script was run locally, not on HPC_"
   ]
  },
  {
   "cell_type": "code",
   "execution_count": 1,
   "id": "003cb9bd",
   "metadata": {},
   "outputs": [],
   "source": [
    "from selenium import webdriver\n",
    "from selenium.webdriver.common.by import By\n",
    "from selenium.webdriver.support.ui import WebDriverWait\n",
    "from selenium.webdriver.support import expected_conditions as EC\n",
    "from selenium.common.exceptions import TimeoutException  \n",
    "from selenium.webdriver.chrome.service import Service\n",
    "from webdriver_manager.chrome import ChromeDriverManager\n",
    "import urllib\n",
    "import os\n",
    "import urllib.request\n",
    "import pandas as pd"
   ]
  },
  {
   "cell_type": "markdown",
   "id": "c8fd44a9-1b7e-4333-a354-d048c9323627",
   "metadata": {},
   "source": [
    "## Read inputs and set residues to mutate"
   ]
  },
  {
   "cell_type": "code",
   "execution_count": 2,
   "id": "57b366ec",
   "metadata": {},
   "outputs": [],
   "source": [
    "# Note: the input PDB is DNA chains A,B and protein chains E,F from 1NKP with waters removed.\n",
    "# The histidine protonation states have already been assigned using pdb2pqr websever.\n",
    "\n",
    "path_pdb = '../DNA_library/MycMax_PDB.pdb' #Input reference PDB (output will be in the same directory)\n",
    "path_dataset = 'dataset.csv' #Input library of DNA sequences to model\n",
    "\n",
    "resid_mutate=[i for i in range(1,36+1)] # Residues to mutate (here I'm doing the whole 36-bp DNA)\n",
    "resid_paired_mutate = [i for i in range(72,37-1,-1)] # Basepairing Residues"
   ]
  },
  {
   "cell_type": "markdown",
   "id": "4a5ea67d-dcf9-4775-8a5f-537fade67c0f",
   "metadata": {},
   "source": [
    "## Perform mutations"
   ]
  },
  {
   "cell_type": "code",
   "execution_count": 3,
   "id": "db8a3b4d",
   "metadata": {},
   "outputs": [],
   "source": [
    "dataset = pd.read_csv(path_dataset)\n",
    "\n",
    "seqs = dataset['SEQUENCE'].to_list() #Sequences I wish to mutate to\n",
    "\n",
    "#'Base':[button to click on webpage, paired base]\n",
    "bp_dict = {'A':[0,'T'],\n",
    "           'C':[1,'G'],\n",
    "           'G':[2,'C'],\n",
    "           'T':[3,'A']}"
   ]
  },
  {
   "cell_type": "code",
   "execution_count": 4,
   "id": "bdec42e7",
   "metadata": {},
   "outputs": [],
   "source": [
    "# Set up the Chrome driver\n",
    "service = Service(ChromeDriverManager().install())\n",
    "options = webdriver.ChromeOptions()\n",
    "options.add_argument('--headless')  # Run in headless mode\n",
    "options.add_argument('--disable-gpu')"
   ]
  },
  {
   "cell_type": "code",
   "execution_count": null,
   "id": "53c72cf8",
   "metadata": {},
   "outputs": [],
   "source": [
    "max_retries = 10  # Define the maximum number of retries\n",
    "driver = webdriver.Chrome(service=service, options=options)\n",
    "\n",
    "for seq in seqs:\n",
    "    retry_count = 0\n",
    "    success = False\n",
    "    \n",
    "    while retry_count < max_retries and not success:\n",
    "        try:\n",
    "            # Step 1: Access the webpage\n",
    "            driver.get(\"http://web.x3dna.org/index.php/mutation\")\n",
    "            \n",
    "            # Step 2: Upload PDB file\n",
    "            search_box = WebDriverWait(driver, 10).until(\n",
    "                EC.presence_of_element_located((By.NAME, \"userfile\"))\n",
    "            )\n",
    "            search_box.send_keys(path_pdb)\n",
    "            \n",
    "            # Step 3: Go to base mutation page\n",
    "            submit_button = WebDriverWait(driver, 20).until(\n",
    "                EC.element_to_be_clickable((By.XPATH, \"//form[@action='http://web.x3dna.org/mutation_file/upload']//input[@type='submit']\"))\n",
    "            )\n",
    "            submit_button.click()\n",
    "\n",
    "            # Step 4: Mutate Residues\n",
    "            for i, res in enumerate(list(seq)):\n",
    "                # Mutate residue\n",
    "                resid = resid_mutate[i]\n",
    "                value = bp_dict[res][0]\n",
    "                \n",
    "                mutation_radio_button = WebDriverWait(driver, 30).until(\n",
    "                    EC.element_to_be_clickable((By.XPATH, f\"//td[@id='r{resid}']//input[@value={value}]\"))\n",
    "                )\n",
    "                mutation_radio_button.click()\n",
    "                \n",
    "                # Mutate basepair\n",
    "                resid_bp = resid_paired_mutate[i]\n",
    "                value_bp = bp_dict[bp_dict[res][1]][0]\n",
    "                \n",
    "                mutation_radio_button = WebDriverWait(driver, 30).until(\n",
    "                    EC.element_to_be_clickable((By.XPATH, f\"//td[@id='r{resid_bp}']//input[@value={value_bp}]\"))\n",
    "                )\n",
    "                mutation_radio_button.click()\n",
    "\n",
    "            # Step 5: Continue to Next Page\n",
    "            submit_mutant = WebDriverWait(driver, 30).until(\n",
    "                EC.element_to_be_clickable((By.XPATH, \"//input[@type='Submit']\"))\n",
    "            )\n",
    "            submit_mutant.click()\n",
    "\n",
    "            # Step 6: Download Mutant\n",
    "            download_link = WebDriverWait(driver, 60).until(\n",
    "                EC.presence_of_element_located((By.XPATH, \"//a[contains(@href, 'mutate/main_view02.pdb')]\"))\n",
    "            )\n",
    "            file_url = download_link.get_attribute('href')\n",
    "            \n",
    "            new_filename = path_pdb.replace('.pdb', f'_{seq}.pdb')\n",
    "\n",
    "            # Download the file\n",
    "            urllib.request.urlretrieve(file_url, new_filename)\n",
    "            print(f\"Mutated PDB file downloaded and saved as {new_filename}\")\n",
    "            \n",
    "            success = True  # Mark as successful if everything works\n",
    "\n",
    "        except TimeoutException:\n",
    "            retry_count += 1\n",
    "            print(f\"Timeout occurred for sequence {seq}. Retrying... ({retry_count}/{max_retries})\")\n",
    "            if retry_count == max_retries:\n",
    "                print(f\"Failed to process sequence {seq} after {max_retries} attempts.\")\n",
    "        \n",
    "        except Exception as e:\n",
    "            print(f\"An error occurred: {e}\")\n",
    "            break  # Optionally break the loop if a critical error occurs\n",
    "\n",
    "# Quit the driver after the loop finishes\n",
    "driver.quit()\n"
   ]
  }
 ],
 "metadata": {
  "kernelspec": {
   "display_name": "Python 3 (ipykernel)",
   "language": "python",
   "name": "python3"
  },
  "language_info": {
   "codemirror_mode": {
    "name": "ipython",
    "version": 3
   },
   "file_extension": ".py",
   "mimetype": "text/x-python",
   "name": "python",
   "nbconvert_exporter": "python",
   "pygments_lexer": "ipython3",
   "version": "3.10.8"
  }
 },
 "nbformat": 4,
 "nbformat_minor": 5
}
